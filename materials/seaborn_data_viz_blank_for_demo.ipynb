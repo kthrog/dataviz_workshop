{
 "cells": [
  {
   "cell_type": "markdown",
   "metadata": {},
   "source": [
    "# Visualizing COVID-19 Hospital Dataset with Seaborn\n",
    "\n",
    "**Pre-Work:**\n",
    "1. Ensure that Jupyter Notebook, Python 3, and seaborn (which will also install dependency libraries if not already installed) are installed. (See resources below for installation instructions.)\n",
    "\n",
    "### **Instructions:**\n",
    "1. Using Python, import main visualization library, `seaborn`, and its dependencies: `pandas`, `numpy`, and `matplotlib`.\n",
    "2. Define dataset and read in data using pandas function, `read_json()`. [Notes: a) we're reading in data as an API endpoint; for more about this, see associated workshop slides or resources at bottom of notebook. b) If, instead, you prefer to use your own data, see comment with alternative for `read_csv()` function.]\n",
    "3. Check data has been read is as expected using `head()` function.\n",
    "4. Graph two variables with `seaborn`as a lineplot using the `lineplot()` function.\n",
    "5. Graph these same variables, plus a third, from the source dataset with `seaborn` as a scatterplot using the `relplot()` function.\n",
    "6. See additional methods, using filtered data and other graphs. Feel free to add new cells (or open a new notebook), and try out your own ideas, using different variables or charts.\n",
    "7. When ready, save figure using `matplotlib`'s `savefig`.\n",
    "\n",
    "**Note:**\n",
    "*If you're new to Jupyter Notebook, see resources below.*\n",
    "\n",
    "### **Data source:**\n",
    "\n",
    "[COVID-19 Reported Patient Impact and Hospital Capacity by State Timeseries](https://healthdata.gov/Hospital/COVID-19-Reported-Patient-Impact-and-Hospital-Capa/g62h-syeh),\" created by the U.S. Department of Health & Human Services, on [HealthData.gov](https://healthdata.gov/)."
   ]
  },
  {
   "cell_type": "code",
   "execution_count": null,
   "metadata": {},
   "outputs": [],
   "source": [
    "# import libraries\n",
    "import pandas as pd\n",
    "import numpy as np\n",
    "import matplotlib.pyplot as plt\n",
    "import seaborn as sns"
   ]
  },
  {
   "cell_type": "code",
   "execution_count": null,
   "metadata": {},
   "outputs": [],
   "source": [
    "# read JSON data in via healthdata.gov's API endpoint - https://healthdata.gov/resource/g62h-syeh.json?$limit=50000\n",
    "# because the SODA API defaults to 1,000 rows, we're going to change that with the $limit parameter\n",
    "# first, we'll write out the function as is and see what that output is\n",
    "# then, we'll define data as 'covid' and set equal to read function, which we'll end up calling below\n",
    "\n",
    "# if you want to read in your own data, see resources below, or if you have a CSV, try: mydata = pd.read_csv('')\n",
    "# and add data filepath inside ''\n",
    "# be sure to change covid to mydata in code below\n",
    "# note: when you see In [*] to the right of a cell, that means it's loading; sometimes functions like head\n",
    "# or charts can take some time to load"
   ]
  },
  {
   "cell_type": "code",
   "execution_count": null,
   "metadata": {},
   "outputs": [],
   "source": [
    "# use seaborn to plot inpatient beds used versus whether a critical staffing shortage is occuring\n",
    "# for this instance, we're going to do just a simple line plot\n",
    "# we also need to tell seaborn what dataset to use; in this case it's 'covid' as defined above\n",
    "# variables: inpatient_beds_used_covid; critical_staffing_shortage_today_yes\n",
    "\n",
    "\n",
    "# save and name fig; uncomment below to run\n",
    "# plt.savefig('covid_lineplot.png')"
   ]
  },
  {
   "cell_type": "code",
   "execution_count": null,
   "metadata": {},
   "outputs": [],
   "source": [
    "# now we're going to try another graph type, a relational graph that will be scatterplot, with the same variables\n",
    "# and add one more variable, deaths_covid, to color dots based on prevalance of COVID-19 deaths by setting hue\n",
    "# though feel free to try new variables by browsing them here (scroll down to Columns in this Dataset): https://healthdata.gov/Hospital/COVID-19-Reported-Patient-Impact-and-Hospital-Capa/g62h-syeh\n",
    "# variables: inpatient_beds_used_covid; critical_staffing_shortage_today_yes; deaths_covid\n",
    "\n",
    "\n",
    "\n",
    "# save and name fig; uncomment below to run\n",
    "# plt.savefig('covid_scatterplot.png')"
   ]
  },
  {
   "cell_type": "markdown",
   "metadata": {},
   "source": [
    "If you'd like to see a completed version of this notebook, visit the [GitHub repo](https://github.com/kthrog/dataviz_workshop/tree/main/materials)."
   ]
  },
  {
   "cell_type": "markdown",
   "metadata": {},
   "source": [
    "#### Code/Tools Resources:\n",
    "- Jupyter notebook - about: https://jupyter-notebook.readthedocs.io/en/stable/notebook.html#introduction\n",
    "- Jupyter notebook - how to use this tool: https://jupyter-notebook.readthedocs.io/en/stable/notebook.html\n",
    "- Python: https://www.python.org/\n",
    "- Seaborn: https://seaborn.pydata.org/index.html\n",
    "- Seaborn tutorial: https://seaborn.pydata.org/tutorial.html\n",
    "- Seaborn gallery: https://seaborn.pydata.org/examples/index.html\n",
    "- Seaborn `lineplot()` function: https://seaborn.pydata.org/generated/seaborn.lineplot.html#seaborn.lineplot + https://seaborn.pydata.org/examples/errorband_lineplots.html\n",
    "- Seaborn `relplot()` function: https://seaborn.pydata.org/generated/seaborn.relplot.html#seaborn.relplot + https://seaborn.pydata.org/examples/faceted_lineplot.html\n",
    "- Pandas: https://pandas.pydata.org/\n",
    "- Pandas - how to read / write tabular data: https://pandas.pydata.org/docs/getting_started/intro_tutorials/02_read_write.html\n",
    "- Pandas `read.json()` function: https://pandas.pydata.org/docs/reference/api/pandas.io.json.read_json.html?highlight=read_json#pandas.io.json.read_json\n",
    "- Pandas `head()` function: https://pandas.pydata.org/docs/reference/api/pandas.DataFrame.head.html?highlight=head#pandas.DataFrame.head\n",
    "- Matplotlib: https://matplotlib.org/\n",
    "- Matplotlib `savefig` function: https://matplotlib.org/stable/api/_as_gen/matplotlib.pyplot.savefig.html\n",
    "- Socrata Open Data API (SODA) Docs: https://dev.socrata.com/\n",
    "- SODA Docs for [Dataset](https://healthdata.gov/Hospital/COVID-19-Reported-Patient-Impact-and-Hospital-Capa/g62h-syeh): https://dev.socrata.com/foundry/healthdata.gov/g62h-syeh\n",
    "- SODA Docs - what is an endpoint: https://dev.socrata.com/docs/endpoints.html\n",
    "\n",
    "#### Visualization Resources:\n",
    "- 10 Simple Rules for Better Figures | *PLOS Comp Bio*: https://journals.plos.org/ploscompbiol/article?id=10.1371/journal.pcbi.1003833\n",
    "\n",
    "- How to Choose the Right Data Visualization | *Chartio*: https://chartio.com/learn/charts/how-to-choose-data-visualization/\n",
    "\n",
    "#### Additional Note:\n",
    "This notebook was created by Kaitlin Throgmorton for a data analysis workshop, as part of an interview for Yale University."
   ]
  },
  {
   "cell_type": "code",
   "execution_count": null,
   "metadata": {},
   "outputs": [],
   "source": []
  }
 ],
 "metadata": {
  "kernelspec": {
   "display_name": "Python 3",
   "language": "python",
   "name": "python3"
  },
  "language_info": {
   "codemirror_mode": {
    "name": "ipython",
    "version": 3
   },
   "file_extension": ".py",
   "mimetype": "text/x-python",
   "name": "python",
   "nbconvert_exporter": "python",
   "pygments_lexer": "ipython3",
   "version": "3.7.6"
  }
 },
 "nbformat": 4,
 "nbformat_minor": 4
}
